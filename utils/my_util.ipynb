{
 "cells": [
  {
   "cell_type": "markdown",
   "metadata": {},
   "source": [
    "### npy to csv"
   ]
  },
  {
   "cell_type": "code",
   "execution_count": 4,
   "metadata": {},
   "outputs": [],
   "source": [
    "# Read Numpy and transfer to csv file.\n",
    "import numpy as np\n",
    "\n",
    "fileName = \"QT_vid_no\"\n",
    "npyName = \"../models/\"+fileName+\".npy\"\n",
    "csvName = \"../results/csv/\"+fileName+\".csv\"\n",
    "\n",
    "arr = np.load(npyName)\n",
    "\n",
    "# 배열을 CSV 파일로 저장\n",
    "np.savetxt(csvName, arr, delimiter=',')"
   ]
  },
  {
   "cell_type": "code",
   "execution_count": null,
   "metadata": {},
   "outputs": [],
   "source": []
  }
 ],
 "metadata": {
  "kernelspec": {
   "display_name": "INFOCOM",
   "language": "python",
   "name": "python3"
  },
  "language_info": {
   "codemirror_mode": {
    "name": "ipython",
    "version": 3
   },
   "file_extension": ".py",
   "mimetype": "text/x-python",
   "name": "python",
   "nbconvert_exporter": "python",
   "pygments_lexer": "ipython3",
   "version": "3.10.11"
  }
 },
 "nbformat": 4,
 "nbformat_minor": 2
}
