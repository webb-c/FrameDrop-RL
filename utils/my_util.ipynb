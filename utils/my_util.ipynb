{
 "cells": [
  {
   "cell_type": "markdown",
   "metadata": {},
   "source": [
    "### npy to csv"
   ]
  },
  {
   "cell_type": "code",
   "execution_count": 4,
   "metadata": {},
   "outputs": [],
   "source": [
    "# Read Numpy and transfer to csv file.\n",
    "import numpy as np\n",
    "\n",
    "fileName = \"QT_vid_no\"\n",
    "npyName = \"../models/\"+fileName+\".npy\"\n",
    "csvName = \"../results/csv/\"+fileName+\".csv\"\n",
    "\n",
    "arr = np.load(npyName)\n",
    "\n",
    "# 배열을 CSV 파일로 저장\n",
    "np.savetxt(csvName, arr, delimiter=',')"
   ]
  },
  {
   "cell_type": "code",
   "execution_count": 10,
   "metadata": {},
   "outputs": [
    {
     "name": "stdout",
     "output_type": "stream",
     "text": [
      "{'b': 'c', 'd': 'e', 'f': 'g'}\n"
     ]
    }
   ],
   "source": [
    "import re \n",
    "\n",
    "def extract_dict_from_path(path):\n",
    "    # 문자열을 '_'로 분할\n",
    "    name = re.split(r\"[/\\\\]\", path)[-1].split(\".\")[0]\n",
    "    parts = name.split('_')\n",
    "\n",
    "    # 결과를 담을 딕셔너리 초기화\n",
    "    result_dict = {}\n",
    "\n",
    "    # 딕셔너리 생성\n",
    "    for i in range(1, len(parts), 2):\n",
    "        key = parts[i]\n",
    "        value = parts[i + 1]\n",
    "        result_dict[key] = value\n",
    "\n",
    "    return result_dict\n",
    "\n",
    "# 예제 문자열\n",
    "example_path = \"./results/logs/test/a_b_c_d_e_f_g.npy\"\n",
    "\n",
    "# 딕셔너리 추출\n",
    "result_dictionary = extract_dict_from_path(example_path)\n",
    "\n",
    "# 결과 출력\n",
    "print(result_dictionary)\n"
   ]
  },
  {
   "cell_type": "code",
   "execution_count": null,
   "metadata": {},
   "outputs": [],
   "source": []
  }
 ],
 "metadata": {
  "kernelspec": {
   "display_name": "INFOCOM",
   "language": "python",
   "name": "python3"
  },
  "language_info": {
   "codemirror_mode": {
    "name": "ipython",
    "version": 3
   },
   "file_extension": ".py",
   "mimetype": "text/x-python",
   "name": "python",
   "nbconvert_exporter": "python",
   "pygments_lexer": "ipython3",
   "version": "3.10.11"
  }
 },
 "nbformat": 4,
 "nbformat_minor": 2
}
