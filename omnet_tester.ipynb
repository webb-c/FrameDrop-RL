{
 "cells": [
  {
   "cell_type": "markdown",
   "metadata": {},
   "source": [
    "### 0. Prior Setting"
   ]
  },
  {
   "cell_type": "code",
   "execution_count": 1,
   "metadata": {},
   "outputs": [],
   "source": [
    "import numpy as np\n",
    "import random\n",
    "import math\n",
    "from tqdm import tqdm\n",
    "from environment import Communicator\n",
    "import threading"
   ]
  },
  {
   "cell_type": "code",
   "execution_count": 2,
   "metadata": {},
   "outputs": [],
   "source": [
    "debug_mode = False\n",
    "STEP = 150"
   ]
  },
  {
   "cell_type": "code",
   "execution_count": 3,
   "metadata": {},
   "outputs": [],
   "source": [
    "FPS = 30\n",
    "ARRIVAL_MAX = 1.0\n",
    "test_multi = True"
   ]
  },
  {
   "cell_type": "code",
   "execution_count": 4,
   "metadata": {},
   "outputs": [],
   "source": [
    "def send(omnet, time):\n",
    "    omnet.get_omnet_message()\n",
    "    omnet.send_omnet_message(\"action\")\n",
    "    omnet.get_omnet_message()\n",
    "    omnet.send_omnet_message(str(time))\n",
    "    return True"
   ]
  },
  {
   "cell_type": "code",
   "execution_count": 5,
   "metadata": {},
   "outputs": [],
   "source": [
    "def receive(omnet):\n",
    "    omnet.get_omnet_message()\n",
    "    omnet.send_omnet_message(\"reward\")\n",
    "    path_cost = omnet.get_omnet_message()\n",
    "    omnet.send_omnet_message(\"ACK\")\n",
    "    return float(path_cost)"
   ]
  },
  {
   "cell_type": "code",
   "execution_count": 6,
   "metadata": {},
   "outputs": [],
   "source": [
    "def setting_omnet(pipe_num):\n",
    "    if pipe_num == 1:\n",
    "        omnet = Communicator(\"\\\\\\\\.\\\\pipe\\\\frame_drop_rl\", 200000, debug_mode=debug_mode)\n",
    "    else :\n",
    "        omnet = Communicator(\"\\\\\\\\.\\\\pipe\\\\frame_drop_rl_\"+str(pipe_num), 200000, debug_mode=debug_mode)\n",
    "    return omnet"
   ]
  },
  {
   "cell_type": "code",
   "execution_count": 7,
   "metadata": {},
   "outputs": [],
   "source": [
    "def testing(pipenum, V, hard=False):\n",
    "    omnet = setting_omnet(pipenum)\n",
    "    \n",
    "    for epi in tqdm(range(STEP)):\n",
    "        if hard: action = 0\n",
    "        else: action = random.randint(0, FPS)\n",
    "        for idx in range(FPS+1):\n",
    "            if idx == action: send(omnet, (action+1)/FPS)\n",
    "            elif idx > action: send(omnet, 1/FPS)\n",
    "\n",
    "        path_cost = receive(omnet)\n",
    "        arrival_rate = ARRIVAL_MAX if path_cost == 0 else min(ARRIVAL_MAX, V / path_cost)\n",
    "        arrival_frame_num = math.floor(arrival_rate*FPS)\n",
    "        \n",
    "        print(f\"action: {action}, path_cost: {path_cost}, max arrival rate with V: {arrival_rate}, max arrival frame num: {arrival_frame_num}\")\n",
    "\n",
    "\n",
    "    omnet.get_omnet_message()\n",
    "    omnet.send_omnet_message(\"finish\")"
   ]
  },
  {
   "cell_type": "markdown",
   "metadata": {},
   "source": [
    "### 1. Checking YOLO env [Config Wireless-Node2-1]\n",
    "\n",
    "cost가 1000~10000단위로 나오기 때문에 V도 그에 맞추어서 조절하면 잘 진행되는 것을 확인"
   ]
  },
  {
   "cell_type": "code",
   "execution_count": 8,
   "metadata": {},
   "outputs": [],
   "source": [
    "V = 1.0"
   ]
  },
  {
   "cell_type": "code",
   "execution_count": 9,
   "metadata": {},
   "outputs": [],
   "source": [
    "if not test_multi:\n",
    "    testing(pipenum=1, V=V, hard=True)"
   ]
  },
  {
   "cell_type": "markdown",
   "metadata": {},
   "source": [
    "### 2. Checking abilene env [Config Wireless11-Node1Node3node5-1]\n"
   ]
  },
  {
   "cell_type": "code",
   "execution_count": 10,
   "metadata": {},
   "outputs": [],
   "source": [
    "V= 1000000"
   ]
  },
  {
   "cell_type": "code",
   "execution_count": 11,
   "metadata": {},
   "outputs": [
    {
     "name": "stdout",
     "output_type": "stream",
     "text": [
      "[1, 2, 3]\n"
     ]
    }
   ],
   "source": [
    "if test_multi: \n",
    "    function_list = [testing, testing, testing]\n",
    "    pipenum_list = [i+1 for i in range(3)]\n",
    "    \n",
    "    print(pipenum_list)"
   ]
  },
  {
   "cell_type": "code",
   "execution_count": 12,
   "metadata": {},
   "outputs": [
    {
     "name": "stdout",
     "output_type": "stream",
     "text": [
      "\\\\.\\pipe\\frame_drop_rl\n",
      "waiting connect OMNeT++ ...\n",
      "\\\\.\\pipe\\frame_drop_rl_2\n",
      "waiting connect OMNeT++ ...\n",
      "\\\\.\\pipe\\frame_drop_rl_3\n",
      "waiting connect OMNeT++ ...\n"
     ]
    }
   ],
   "source": [
    "if test_multi: \n",
    "    threads = []\n",
    "    \n",
    "    for func, pipe in zip(function_list, pipenum_list):\n",
    "        thread = threading.Thread(target=func, args=(pipe, V))\n",
    "        threads.append(thread)\n",
    "        thread.start()"
   ]
  },
  {
   "cell_type": "code",
   "execution_count": 13,
   "metadata": {},
   "outputs": [
    {
     "name": "stdout",
     "output_type": "stream",
     "text": [
      "finshing connect OMNeT++\n",
      "finshing connect OMNeT++\n",
      "finshing connect OMNeT++\n"
     ]
    },
    {
     "name": "stderr",
     "output_type": "stream",
     "text": [
      "  0%|          | 0/150 [00:00<?, ?it/s]\n",
      "  1%|          | 1/150 [00:21<52:13, 21.03s/it]\n",
      "\u001b[A"
     ]
    },
    {
     "name": "stdout",
     "output_type": "stream",
     "text": [
      "action: 20, path_cost: 0.0, max arrival rate with V: 1.0, max arrival frame num: 30\n",
      "action: 0, path_cost: 39939.379207, max arrival rate with V: 1.0, max arrival frame num: 30\n",
      "action: 3, path_cost: 858624.482187, max arrival rate with V: 1.0, max arrival frame num: 30\n"
     ]
    },
    {
     "name": "stderr",
     "output_type": "stream",
     "text": [
      "  1%|▏         | 2/150 [00:26<28:54, 11.72s/it]\n",
      "\u001b[A\n",
      "  1%|▏         | 2/150 [00:26<29:07, 11.81s/it]"
     ]
    },
    {
     "name": "stdout",
     "output_type": "stream",
     "text": [
      "action: 23, path_cost: 0.0, max arrival rate with V: 1.0, max arrival frame num: 30\n",
      "action: 8, path_cost: 0.0, max arrival rate with V: 1.0, max arrival frame num: 30\n",
      "action: 7, path_cost: 1129054.037648, max arrival rate with V: 0.8856972001828715, max arrival frame num: 26\n"
     ]
    },
    {
     "name": "stderr",
     "output_type": "stream",
     "text": [
      "\u001b[A\n",
      "  2%|▏         | 3/150 [00:32<22:35,  9.22s/it]\n"
     ]
    },
    {
     "name": "stdout",
     "output_type": "stream",
     "text": [
      "action: 4, path_cost: 0.0, max arrival rate with V: 1.0, max arrival frame num: 30\n",
      "action: 7, path_cost: 0.0, max arrival rate with V: 1.0, max arrival frame num: 30\n",
      "action: 23, path_cost: 4726484.954755, max arrival rate with V: 0.21157371906874833, max arrival frame num: 6\n"
     ]
    },
    {
     "name": "stderr",
     "output_type": "stream",
     "text": [
      "  2%|▏         | 3/150 [00:32<22:38,  9.24s/it]\u001b[A\n",
      "  3%|▎         | 4/150 [00:37<18:50,  7.74s/it]"
     ]
    },
    {
     "name": "stdout",
     "output_type": "stream",
     "text": [
      "action: 3, path_cost: 0.0, max arrival rate with V: 1.0, max arrival frame num: 30\n",
      "action: 21, path_cost: 0.0, max arrival rate with V: 1.0, max arrival frame num: 30\n"
     ]
    },
    {
     "name": "stderr",
     "output_type": "stream",
     "text": []
    },
    {
     "name": "stdout",
     "output_type": "stream",
     "text": [
      "action: 23, path_cost: 6021909.365763, max arrival rate with V: 0.16606028740409245, max arrival frame num: 4\n"
     ]
    },
    {
     "name": "stderr",
     "output_type": "stream",
     "text": [
      "\n",
      "  3%|▎         | 5/150 [00:43<17:09,  7.10s/it]"
     ]
    },
    {
     "name": "stdout",
     "output_type": "stream",
     "text": [
      "action: 28, path_cost: 200522.385305, max arrival rate with V: 1.0, max arrival frame num: 30\n",
      "action: 2, path_cost: 10027222.747047, max arrival rate with V: 0.09972851159554606, max arrival frame num: 2\n",
      "action: 17, path_cost: 0.0, max arrival rate with V: 1.0, max arrival frame num: 30\n"
     ]
    },
    {
     "name": "stderr",
     "output_type": "stream",
     "text": [
      "\n",
      "  4%|▍         | 6/150 [00:49<16:09,  6.73s/it]"
     ]
    },
    {
     "name": "stdout",
     "output_type": "stream",
     "text": [
      "action: 18, path_cost: 0.0, max arrival rate with V: 1.0, max arrival frame num: 30\n",
      "action: 1, path_cost: 0.0, max arrival rate with V: 1.0, max arrival frame num: 30\n",
      "action: 13, path_cost: 11265992.693957, max arrival rate with V: 0.08876270624038245, max arrival frame num: 2\n"
     ]
    },
    {
     "name": "stderr",
     "output_type": "stream",
     "text": [
      "\n",
      "  5%|▍         | 7/150 [00:56<15:33,  6.53s/it]\n"
     ]
    },
    {
     "name": "stdout",
     "output_type": "stream",
     "text": [
      "action: 0, path_cost: 0.0, max arrival rate with V: 1.0, max arrival frame num: 30\n",
      "action: 2, path_cost: 138038.516777, max arrival rate with V: 1.0, max arrival frame num: 30\n",
      "action: 6, path_cost: 12412429.48068, max arrival rate with V: 0.08056440534518278, max arrival frame num: 2\n"
     ]
    },
    {
     "name": "stderr",
     "output_type": "stream",
     "text": [
      "  5%|▍         | 7/150 [00:56<15:34,  6.53s/it]\u001b[A\n",
      "\u001b[A"
     ]
    },
    {
     "name": "stdout",
     "output_type": "stream",
     "text": [
      "action: 7, path_cost: 485562.41011, max arrival rate with V: 1.0, max arrival frame num: 30\n"
     ]
    },
    {
     "name": "stderr",
     "output_type": "stream",
     "text": [
      "  5%|▌         | 8/150 [01:02<15:18,  6.47s/it]"
     ]
    },
    {
     "name": "stdout",
     "output_type": "stream",
     "text": [
      "action: 19, path_cost: 11645849.29523, max arrival rate with V: 0.08586750306047564, max arrival frame num: 2\n",
      "action: 16, path_cost: 0.0, max arrival rate with V: 1.0, max arrival frame num: 30\n"
     ]
    },
    {
     "name": "stderr",
     "output_type": "stream",
     "text": [
      "\n",
      "\u001b[A"
     ]
    },
    {
     "name": "stdout",
     "output_type": "stream",
     "text": [
      "action: 0, path_cost: 1160314.59778, max arrival rate with V: 0.8618352315081395, max arrival frame num: 25\n"
     ]
    },
    {
     "name": "stderr",
     "output_type": "stream",
     "text": [
      "  6%|▌         | 9/150 [01:08<14:53,  6.33s/it]"
     ]
    },
    {
     "name": "stdout",
     "output_type": "stream",
     "text": [
      "action: 6, path_cost: 0.0, max arrival rate with V: 1.0, max arrival frame num: 30\n",
      "action: 17, path_cost: 9718703.234083, max arrival rate with V: 0.10289438579552986, max arrival frame num: 3\n"
     ]
    },
    {
     "name": "stderr",
     "output_type": "stream",
     "text": [
      "\n",
      "\u001b[A"
     ]
    },
    {
     "name": "stdout",
     "output_type": "stream",
     "text": [
      "action: 22, path_cost: 375638.130647, max arrival rate with V: 1.0, max arrival frame num: 30\n"
     ]
    },
    {
     "name": "stderr",
     "output_type": "stream",
     "text": [
      "  7%|▋         | 10/150 [01:14<14:19,  6.14s/it]"
     ]
    },
    {
     "name": "stdout",
     "output_type": "stream",
     "text": [
      "action: 20, path_cost: 0.0, max arrival rate with V: 1.0, max arrival frame num: 30\n"
     ]
    },
    {
     "name": "stderr",
     "output_type": "stream",
     "text": []
    },
    {
     "name": "stdout",
     "output_type": "stream",
     "text": [
      "action: 22, path_cost: 5460457.846338, max arrival rate with V: 0.1831348264451194, max arrival frame num: 5\n"
     ]
    },
    {
     "name": "stderr",
     "output_type": "stream",
     "text": [
      "\n",
      "\u001b[A"
     ]
    },
    {
     "name": "stdout",
     "output_type": "stream",
     "text": [
      "action: 17, path_cost: 969488.699533, max arrival rate with V: 1.0, max arrival frame num: 30\n"
     ]
    },
    {
     "name": "stderr",
     "output_type": "stream",
     "text": [
      "  7%|▋         | 11/150 [01:20<14:41,  6.34s/it]"
     ]
    },
    {
     "name": "stdout",
     "output_type": "stream",
     "text": [
      "action: 13, path_cost: 0.0, max arrival rate with V: 1.0, max arrival frame num: 30\n",
      "action: 7, path_cost: 9409876.023343, max arrival rate with V: 0.10627132573471833, max arrival frame num: 3\n"
     ]
    },
    {
     "name": "stderr",
     "output_type": "stream",
     "text": [
      "\n",
      "\u001b[A"
     ]
    },
    {
     "name": "stdout",
     "output_type": "stream",
     "text": [
      "action: 14, path_cost: 0.0, max arrival rate with V: 1.0, max arrival frame num: 30\n"
     ]
    },
    {
     "name": "stderr",
     "output_type": "stream",
     "text": [
      "  8%|▊         | 12/150 [01:27<14:24,  6.26s/it]"
     ]
    },
    {
     "name": "stdout",
     "output_type": "stream",
     "text": [
      "action: 18, path_cost: 9037.465365, max arrival rate with V: 1.0, max arrival frame num: 30\n",
      "action: 8, path_cost: 8533210.458737, max arrival rate with V: 0.11718918745009013, max arrival frame num: 3\n"
     ]
    },
    {
     "name": "stderr",
     "output_type": "stream",
     "text": [
      "\n",
      "\u001b[A"
     ]
    },
    {
     "name": "stdout",
     "output_type": "stream",
     "text": [
      "action: 25, path_cost: 3456.141433, max arrival rate with V: 1.0, max arrival frame num: 30\n"
     ]
    },
    {
     "name": "stderr",
     "output_type": "stream",
     "text": [
      "  9%|▊         | 13/150 [01:32<14:04,  6.16s/it]"
     ]
    },
    {
     "name": "stdout",
     "output_type": "stream",
     "text": [
      "action: 27, path_cost: 0.0, max arrival rate with V: 1.0, max arrival frame num: 30\n",
      "action: 0, path_cost: 13076027.819483, max arrival rate with V: 0.07647582383619753, max arrival frame num: 2\n"
     ]
    },
    {
     "name": "stderr",
     "output_type": "stream",
     "text": [
      "\n",
      "\u001b[A"
     ]
    },
    {
     "name": "stdout",
     "output_type": "stream",
     "text": [
      "action: 24, path_cost: 0.0, max arrival rate with V: 1.0, max arrival frame num: 30\n"
     ]
    },
    {
     "name": "stderr",
     "output_type": "stream",
     "text": [
      "  9%|▉         | 14/150 [01:39<14:04,  6.21s/it]"
     ]
    },
    {
     "name": "stdout",
     "output_type": "stream",
     "text": [
      "action: 5, path_cost: 13053838.60228, max arrival rate with V: 0.07660581921285121, max arrival frame num: 2\n",
      "action: 25, path_cost: 0.0, max arrival rate with V: 1.0, max arrival frame num: 30\n"
     ]
    },
    {
     "name": "stderr",
     "output_type": "stream",
     "text": [
      "\n",
      "\u001b[A"
     ]
    },
    {
     "name": "stdout",
     "output_type": "stream",
     "text": [
      "action: 22, path_cost: 697326.821817, max arrival rate with V: 1.0, max arrival frame num: 30\n"
     ]
    },
    {
     "name": "stderr",
     "output_type": "stream",
     "text": [
      " 10%|█         | 15/150 [01:45<14:01,  6.24s/it]"
     ]
    },
    {
     "name": "stdout",
     "output_type": "stream",
     "text": [
      "action: 13, path_cost: 12125820.461302, max arrival rate with V: 0.08246864640552544, max arrival frame num: 2\n",
      "action: 10, path_cost: 0.0, max arrival rate with V: 1.0, max arrival frame num: 30\n"
     ]
    },
    {
     "name": "stderr",
     "output_type": "stream",
     "text": [
      "\n",
      "\u001b[A"
     ]
    },
    {
     "name": "stdout",
     "output_type": "stream",
     "text": [
      "action: 8, path_cost: 960762.263303, max arrival rate with V: 1.0, max arrival frame num: 30\n"
     ]
    },
    {
     "name": "stderr",
     "output_type": "stream",
     "text": [
      " 11%|█         | 16/150 [01:51<13:55,  6.23s/it]"
     ]
    },
    {
     "name": "stdout",
     "output_type": "stream",
     "text": [
      "action: 6, path_cost: 3189638.979655, max arrival rate with V: 0.3135151051195652, max arrival frame num: 9\n",
      "action: 4, path_cost: 11493320.912623, max arrival rate with V: 0.08700705458434646, max arrival frame num: 2\n"
     ]
    },
    {
     "name": "stderr",
     "output_type": "stream",
     "text": [
      "\n",
      "\u001b[A"
     ]
    },
    {
     "name": "stdout",
     "output_type": "stream",
     "text": [
      "action: 30, path_cost: 620707.55044, max arrival rate with V: 1.0, max arrival frame num: 30\n"
     ]
    },
    {
     "name": "stderr",
     "output_type": "stream",
     "text": [
      " 11%|█▏        | 17/150 [01:57<13:40,  6.17s/it]"
     ]
    },
    {
     "name": "stdout",
     "output_type": "stream",
     "text": [
      "action: 10, path_cost: 13653724.12047, max arrival rate with V: 0.07324009121443836, max arrival frame num: 2\n",
      "action: 24, path_cost: 4075011.383638, max arrival rate with V: 0.24539808747901992, max arrival frame num: 7\n"
     ]
    },
    {
     "name": "stderr",
     "output_type": "stream",
     "text": [
      "\n",
      "\u001b[A"
     ]
    },
    {
     "name": "stdout",
     "output_type": "stream",
     "text": [
      "action: 3, path_cost: 13964216.923138, max arrival rate with V: 0.07161160597147775, max arrival frame num: 2\n"
     ]
    },
    {
     "name": "stderr",
     "output_type": "stream",
     "text": [
      " 12%|█▏        | 18/150 [02:04<13:59,  6.36s/it]"
     ]
    },
    {
     "name": "stdout",
     "output_type": "stream",
     "text": [
      "action: 2, path_cost: 12429532.2099, max arrival rate with V: 0.08045355071396089, max arrival frame num: 2\n",
      "action: 12, path_cost: 4871753.145321, max arrival rate with V: 0.2052649159698156, max arrival frame num: 6\n"
     ]
    },
    {
     "name": "stderr",
     "output_type": "stream",
     "text": [
      "\n",
      "\u001b[A"
     ]
    },
    {
     "name": "stdout",
     "output_type": "stream",
     "text": [
      "action: 3, path_cost: 14289687.339608, max arrival rate with V: 0.06998053744872436, max arrival frame num: 2\n"
     ]
    },
    {
     "name": "stderr",
     "output_type": "stream",
     "text": [
      " 13%|█▎        | 19/150 [02:10<13:33,  6.21s/it]"
     ]
    },
    {
     "name": "stdout",
     "output_type": "stream",
     "text": [
      "action: 11, path_cost: 15238625.69537, max arrival rate with V: 0.06562271559067384, max arrival frame num: 1\n",
      "action: 27, path_cost: 3947114.535572, max arrival rate with V: 0.25334962818733714, max arrival frame num: 7\n"
     ]
    },
    {
     "name": "stderr",
     "output_type": "stream",
     "text": [
      "\n",
      "\u001b[A"
     ]
    },
    {
     "name": "stdout",
     "output_type": "stream",
     "text": [
      "action: 11, path_cost: 14003428.29222, max arrival rate with V: 0.07141108442391769, max arrival frame num: 2\n"
     ]
    },
    {
     "name": "stderr",
     "output_type": "stream",
     "text": [
      " 13%|█▎        | 20/150 [02:19<15:04,  6.95s/it]\n",
      "Exception in thread Thread-7 (testing):\n",
      "Traceback (most recent call last):\n",
      "  File \"c:\\Users\\s_bono0208\\AppData\\Local\\anaconda3\\envs\\COIN\\lib\\threading.py\", line 1016, in _bootstrap_inner\n",
      " 13%|█▎        | 19/150 [02:19<15:58,  7.32s/it]\n",
      "Exception in thread Thread-6 (testing):\n",
      "Traceback (most recent call last):\n",
      "  File \"c:\\Users\\s_bono0208\\AppData\\Local\\anaconda3\\envs\\COIN\\lib\\threading.py\", line 1016, in _bootstrap_inner\n",
      " 13%|█▎        | 19/150 [02:19<15:59,  7.32s/it]    self.run()\n",
      "  File \"c:\\Users\\s_bono0208\\AppData\\Local\\anaconda3\\envs\\COIN\\lib\\threading.py\", line 953, in run\n",
      "\n",
      "Exception in thread Thread-5 (testing):\n",
      "Traceback (most recent call last):\n",
      "  File \"c:\\Users\\s_bono0208\\AppData\\Local\\anaconda3\\envs\\COIN\\lib\\threading.py\", line 1016, in _bootstrap_inner\n",
      "    self.run()\n",
      "  File \"c:\\Users\\s_bono0208\\AppData\\Local\\anaconda3\\envs\\COIN\\lib\\threading.py\", line 953, in run\n",
      "    self._target(*self._args, **self._kwargs)\n",
      "  File \"C:\\Users\\s_bono0208\\AppData\\Local\\Temp\\ipykernel_25060\\541827487.py\", line 9, in testing\n",
      "    self.run()\n",
      "  File \"c:\\Users\\s_bono0208\\AppData\\Local\\anaconda3\\envs\\COIN\\lib\\threading.py\", line 953, in run\n",
      "    self._target(*self._args, **self._kwargs)\n",
      "  File \"C:\\Users\\s_bono0208\\AppData\\Local\\Temp\\ipykernel_25060\\541827487.py\", line 11, in testing\n",
      "    self._target(*self._args, **self._kwargs)\n",
      "  File \"C:\\Users\\s_bono0208\\AppData\\Local\\Temp\\ipykernel_25060\\541827487.py\", line 11, in testing\n",
      "  File \"C:\\Users\\s_bono0208\\AppData\\Local\\Temp\\ipykernel_25060\\138736049.py\", line 2, in send\n",
      "  File \"C:\\Users\\s_bono0208\\AppData\\Local\\Temp\\ipykernel_25060\\3738313004.py\", line 4, in receive\n",
      "  File \"d:\\VSC\\INFOCOM\\FrameDrop-RL\\environment.py\", line 657, in get_omnet_message\n",
      "  File \"C:\\Users\\s_bono0208\\AppData\\Local\\Temp\\ipykernel_25060\\3738313004.py\", line 2, in receive\n",
      "  File \"d:\\VSC\\INFOCOM\\FrameDrop-RL\\environment.py\", line 657, in get_omnet_message\n",
      "    response_byte = win32file.ReadFile(self.pipe, self.buffer_size)\n",
      "pywintypes.error: (109, 'ReadFile', '파이프가 끝났습니다.')\n",
      "    response_byte = win32file.ReadFile(self.pipe, self.buffer_size)\n",
      "pywintypes.error: (109, 'ReadFile', '파이프가 끝났습니다.')\n",
      "  File \"d:\\VSC\\INFOCOM\\FrameDrop-RL\\environment.py\", line 657, in get_omnet_message\n",
      "    response_byte = win32file.ReadFile(self.pipe, self.buffer_size)\n",
      "pywintypes.error: (109, 'ReadFile', '파이프가 끝났습니다.')\n"
     ]
    },
    {
     "name": "stdout",
     "output_type": "stream",
     "text": [
      "All functions have completed execution.\n"
     ]
    }
   ],
   "source": [
    "if test_multi: \n",
    "    for thread in threads:\n",
    "        thread.join()\n",
    "\n",
    "    print(\"All functions have completed execution.\")"
   ]
  },
  {
   "cell_type": "code",
   "execution_count": null,
   "metadata": {},
   "outputs": [],
   "source": []
  }
 ],
 "metadata": {
  "kernelspec": {
   "display_name": "COIN",
   "language": "python",
   "name": "python3"
  },
  "language_info": {
   "codemirror_mode": {
    "name": "ipython",
    "version": 3
   },
   "file_extension": ".py",
   "mimetype": "text/x-python",
   "name": "python",
   "nbconvert_exporter": "python",
   "pygments_lexer": "ipython3",
   "version": "3.10.11"
  }
 },
 "nbformat": 4,
 "nbformat_minor": 2
}
