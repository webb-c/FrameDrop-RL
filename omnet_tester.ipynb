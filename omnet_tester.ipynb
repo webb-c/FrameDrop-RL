{
 "cells": [
  {
   "cell_type": "markdown",
   "metadata": {},
   "source": [
    "### 0. Prior Setting"
   ]
  },
  {
   "cell_type": "code",
   "execution_count": null,
   "metadata": {},
   "outputs": [],
   "source": [
    "import numpy as np\n",
    "import random\n",
    "import math\n",
    "from tqdm import tqdm\n",
    "from environment import Communicator\n",
    "import threading"
   ]
  },
  {
   "cell_type": "code",
   "execution_count": null,
   "metadata": {},
   "outputs": [],
   "source": [
    "debug_mode = False\n",
    "STEP = 150"
   ]
  },
  {
   "cell_type": "code",
   "execution_count": null,
   "metadata": {},
   "outputs": [],
   "source": [
    "FPS = 30\n",
    "ARRIVAL_MAX = 1.0\n",
    "test_multi = True"
   ]
  },
  {
   "cell_type": "code",
   "execution_count": null,
   "metadata": {},
   "outputs": [],
   "source": [
    "def send(omnet, time):\n",
    "    omnet.get_omnet_message()\n",
    "    omnet.send_omnet_message(\"action\")\n",
    "    omnet.get_omnet_message()\n",
    "    omnet.send_omnet_message(str(time))\n",
    "    return True"
   ]
  },
  {
   "cell_type": "code",
   "execution_count": null,
   "metadata": {},
   "outputs": [],
   "source": [
    "def receive(omnet):\n",
    "    omnet.get_omnet_message()\n",
    "    omnet.send_omnet_message(\"reward\")\n",
    "    path_cost = omnet.get_omnet_message()\n",
    "    omnet.send_omnet_message(\"ACK\")\n",
    "    return float(path_cost)"
   ]
  },
  {
   "cell_type": "code",
   "execution_count": null,
   "metadata": {},
   "outputs": [],
   "source": [
    "def setting_omnet(pipe_num):\n",
    "    if pipe_num == 1:\n",
    "        omnet = Communicator(\"\\\\\\\\.\\\\pipe\\\\frame_drop_rl\", 200000, debug_mode=debug_mode)\n",
    "    else :\n",
    "        omnet = Communicator(\"\\\\\\\\.\\\\pipe\\\\frame_drop_rl_\"+str(pipe_num), 200000, debug_mode=debug_mode)\n",
    "    return omnet"
   ]
  },
  {
   "cell_type": "code",
   "execution_count": null,
   "metadata": {},
   "outputs": [],
   "source": [
    "def testing(pipenum, V, hard=False):\n",
    "    omnet = setting_omnet(pipenum)\n",
    "    \n",
    "    for epi in tqdm(range(STEP)):\n",
    "        if hard: action = 0\n",
    "        else: action = random.randint(0, FPS)\n",
    "        for idx in range(FPS+1):\n",
    "            if idx == action: send(omnet, (action+1)/FPS)\n",
    "            elif idx > action: send(omnet, 1/FPS)\n",
    "\n",
    "        path_cost = receive(omnet)\n",
    "        arrival_rate = ARRIVAL_MAX if path_cost == 0 else min(ARRIVAL_MAX, V / path_cost)\n",
    "        arrival_frame_num = math.floor(arrival_rate*FPS)\n",
    "        \n",
    "        print(f\"action: {action}, path_cost: {path_cost}, max arrival rate with V: {arrival_rate}, max arrival frame num: {arrival_frame_num}\")\n",
    "\n",
    "\n",
    "    omnet.get_omnet_message()\n",
    "    omnet.send_omnet_message(\"finish\")"
   ]
  },
  {
   "cell_type": "markdown",
   "metadata": {},
   "source": [
    "### 1. Checking YOLO env [Config Wireless-Node2-1]\n",
    "\n",
    "cost가 1000~10000단위로 나오기 때문에 V도 그에 맞추어서 조절하면 잘 진행되는 것을 확인"
   ]
  },
  {
   "cell_type": "code",
   "execution_count": null,
   "metadata": {},
   "outputs": [],
   "source": [
    "V = 1.0"
   ]
  },
  {
   "cell_type": "code",
   "execution_count": null,
   "metadata": {},
   "outputs": [],
   "source": [
    "if not test_multi:\n",
    "    testing(pipenum=1, V=V, hard=True)"
   ]
  },
  {
   "cell_type": "markdown",
   "metadata": {},
   "source": [
    "### 2. Checking abilene env [Config Wireless11-Node1Node3node5-1]\n"
   ]
  },
  {
   "cell_type": "code",
   "execution_count": null,
   "metadata": {},
   "outputs": [],
   "source": [
    "V= 100000"
   ]
  },
  {
   "cell_type": "code",
   "execution_count": null,
   "metadata": {},
   "outputs": [],
   "source": [
    "if test_multi: \n",
    "    function_list = [testing, testing, testing]\n",
    "    pipenum_list = [i+1 for i in range(3)]\n",
    "    \n",
    "    print(pipenum_list)"
   ]
  },
  {
   "cell_type": "code",
   "execution_count": null,
   "metadata": {},
   "outputs": [],
   "source": [
    "if test_multi: \n",
    "    threads = []\n",
    "    \n",
    "    for func, pipe in zip(function_list, pipenum_list):\n",
    "        thread = threading.Thread(target=func, args=(pipe, V))\n",
    "        threads.append(thread)\n",
    "        thread.start()"
   ]
  },
  {
   "cell_type": "code",
   "execution_count": null,
   "metadata": {},
   "outputs": [],
   "source": [
    "if test_multi: \n",
    "    for thread in threads:\n",
    "        thread.join()\n",
    "\n",
    "    print(\"All functions have completed execution.\")"
   ]
  },
  {
   "cell_type": "code",
   "execution_count": null,
   "metadata": {},
   "outputs": [],
   "source": []
  }
 ],
 "metadata": {
  "kernelspec": {
   "display_name": "COIN",
   "language": "python",
   "name": "python3"
  },
  "language_info": {
   "codemirror_mode": {
    "name": "ipython",
    "version": 3
   },
   "file_extension": ".py",
   "mimetype": "text/x-python",
   "name": "python",
   "nbconvert_exporter": "python",
   "pygments_lexer": "ipython3",
   "version": "3.10.11"
  }
 },
 "nbformat": 4,
 "nbformat_minor": 2
}
